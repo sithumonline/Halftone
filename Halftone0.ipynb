{
  "nbformat": 4,
  "nbformat_minor": 0,
  "metadata": {
    "colab": {
      "name": "Halftone0.ipynb",
      "provenance": [],
      "include_colab_link": true
    },
    "kernelspec": {
      "name": "python3",
      "display_name": "Python 3"
    },
    "language_info": {
      "name": "python"
    }
  },
  "cells": [
    {
      "cell_type": "markdown",
      "metadata": {
        "id": "view-in-github",
        "colab_type": "text"
      },
      "source": [
        "<a href=\"https://colab.research.google.com/github/sithumonline/Halftone/blob/main/Halftone0.ipynb\" target=\"_parent\"><img src=\"https://colab.research.google.com/assets/colab-badge.svg\" alt=\"Open In Colab\"/></a>"
      ]
    },
    {
      "cell_type": "code",
      "metadata": {
        "colab": {
          "base_uri": "https://localhost:8080/"
        },
        "id": "IhxdkhLG3vVD",
        "outputId": "7b747dc4-bfe9-4e48-d3c9-5cd17ff825dd"
      },
      "source": [
        "!wget https://raw.githubusercontent.com/GravO8/halftone/master/halftone.py"
      ],
      "execution_count": 1,
      "outputs": [
        {
          "output_type": "stream",
          "name": "stdout",
          "text": [
            "--2021-11-15 09:13:09--  https://raw.githubusercontent.com/GravO8/halftone/master/halftone.py\n",
            "Resolving raw.githubusercontent.com (raw.githubusercontent.com)... 185.199.111.133, 185.199.109.133, 185.199.110.133, ...\n",
            "Connecting to raw.githubusercontent.com (raw.githubusercontent.com)|185.199.111.133|:443... connected.\n",
            "HTTP request sent, awaiting response... 200 OK\n",
            "Length: 5320 (5.2K) [text/plain]\n",
            "Saving to: ‘halftone.py’\n",
            "\n",
            "\rhalftone.py           0%[                    ]       0  --.-KB/s               \rhalftone.py         100%[===================>]   5.20K  --.-KB/s    in 0s      \n",
            "\n",
            "2021-11-15 09:13:09 (59.2 MB/s) - ‘halftone.py’ saved [5320/5320]\n",
            "\n"
          ]
        }
      ]
    },
    {
      "cell_type": "code",
      "metadata": {
        "colab": {
          "base_uri": "https://localhost:8080/"
        },
        "id": "j1swwhFZZVBi",
        "outputId": "9a076ca4-8684-4a8c-f095-fbd3da5dd005"
      },
      "source": [
        "!python3 halftone.py foo-y.jpg -fg '(255, 255,0)' --side 7 "
      ],
      "execution_count": null,
      "outputs": [
        {
          "output_type": "stream",
          "name": "stdout",
          "text": [
            "python3: can't open file 'halftone.py': [Errno 2] No such file or directory\n"
          ]
        }
      ]
    },
    {
      "cell_type": "code",
      "metadata": {
        "colab": {
          "base_uri": "https://localhost:8080/",
          "height": 265
        },
        "id": "-Aj_v_HnQHGR",
        "outputId": "da570c9f-82da-4314-c7c5-1a82e9fc884d"
      },
      "source": [
        "from PIL import Image\n",
        "\n",
        "im  = Image.open('foo.jpg')             # open RGB image\n",
        "cmyk= im.convert('CMYK').split()         # RGB contone RGB to CMYK contone\n",
        "c = cmyk[0].convert('1').convert('L')    # and then halftone ('1') each plane\n",
        "m = cmyk[1].convert('1').convert('L')    # ...and back to ('L') mode\n",
        "y = cmyk[2].convert('1').convert('L')\n",
        "k = cmyk[3].convert('1').convert('L')\n",
        "\n",
        "new_cmyk = Image.merge('CMYK',[c,m,y,k]) # put together all 4 planes\n",
        "new_cmyk.save('foo-cmyk.jpg')           # and save to file\n",
        "\n",
        "\"\"\"\n",
        "# Get X,Y coordinates of image\n",
        "for x in range(c.size[0]):\n",
        "    for y in range(c.size[1]):\n",
        "        if c.getpixel((x,y)) == 0:\n",
        "            continue\n",
        "        # print(f'x : {x}, y : {y}')\n",
        "\"\"\"\n",
        "\"\"\"\n",
        "with open('foo-xy.gcode', 'w') as f:\n",
        "    for x in range(c.size[0]):\n",
        "        for y in range(c.size[1]):\n",
        "            if c.getpixel((x,y)) == 0:\n",
        "                continue\n",
        "            f.write(f'G82 X{x} Y{y}\\n')\n",
        "\"\"\"\n",
        "import matplotlib.pyplot as plt\n",
        "arr_x = []\n",
        "arr_y = []\n",
        "for x in range(c.size[0]):\n",
        "    for y in range(c.size[1]):\n",
        "        if c.getpixel((x,y)) == 0:\n",
        "            continue\n",
        "        arr_x.append(x)\n",
        "        arr_y.append(y)\n",
        "plt.scatter(arr_x, arr_y)\n",
        "\n",
        "plt.show()\n"
      ],
      "execution_count": null,
      "outputs": [
        {
          "output_type": "display_data",
          "data": {
            "image/png": "[encoded data removed]",
            "text/plain": [
              "<Figure size 432x288 with 1 Axes>"
            ]
          },
          "metadata": {
            "needs_background": "light"
          }
        }
      ]
    },
    {
      "cell_type": "code",
      "metadata": {
        "id": "nW78yRRWS3Nu"
      },
      "source": [
        "from PIL import Image, ImageDraw, ImageStat\n",
        "\n",
        "def gcr(im, percentage):\n",
        "    '''basic \"Gray Component Replacement\" function. Returns a CMYK image with \n",
        "       percentage gray component removed from the CMY channels and put in the\n",
        "       K channel, ie. for percentage=100, (41, 100, 255, 0) >> (0, 59, 214, 41)'''\n",
        "    cmyk_im = im.convert('CMYK')\n",
        "    if not percentage:\n",
        "        return cmyk_im\n",
        "    cmyk_im = cmyk_im.split()\n",
        "    cmyk = []\n",
        "    for i in range(4):\n",
        "        cmyk.append(cmyk_im[i].load())\n",
        "    for x in xrange(im.size[0]):\n",
        "        for y in xrange(im.size[1]):\n",
        "            gray = min(cmyk[0][x,y], cmyk[1][x,y], cmyk[2][x,y]) * percentage / 100\n",
        "            for i in xrange(3):\n",
        "                cmyk[i][x,y] = cmyk[i][x,y] - gray\n",
        "            cmyk[3][x,y] = gray\n",
        "    return Image.merge('CMYK', cmyk_im)\n",
        "\n",
        "def halftone(im, cmyk, sample, scale):\n",
        "    '''Returns list of half-tone images for cmyk image. sample (pixels), \n",
        "       determines the sample box size from the original image. The maximum \n",
        "       output dot diameter is given by sample * scale (which is also the number \n",
        "       of possible dot sizes). So sample=1 will presevere the original image \n",
        "       resolution, but scale must be >1 to allow variation in dot size.'''\n",
        "    cmyk = cmyk.split()\n",
        "    dots = []\n",
        "    angle = 0\n",
        "    for channel in cmyk:\n",
        "        channel = channel.rotate(angle, expand=1)\n",
        "        size = channel.size[0]*scale, channel.size[1]*scale\n",
        "        half_tone = Image.new('L', size)\n",
        "        draw = ImageDraw.Draw(half_tone)\n",
        "        for x in range(0, channel.size[0], sample):\n",
        "            for y in range(0, channel.size[1], sample):\n",
        "                box = channel.crop((x, y, x + sample, y + sample))\n",
        "                stat = ImageStat.Stat(box)\n",
        "                diameter = (stat.mean[0] / 255)**0.5\n",
        "                edge = 0.5*(1-diameter)\n",
        "                x_pos, y_pos = (x+edge)*scale, (y+edge)*scale\n",
        "                box_edge = sample*diameter*scale\n",
        "                draw.ellipse((x_pos, y_pos, x_pos + box_edge, y_pos + box_edge), fill=255)\n",
        "        half_tone = half_tone.rotate(-angle, expand=1)\n",
        "        width_half, height_half = half_tone.size\n",
        "        xx=(width_half-im.size[0]*scale) / 2\n",
        "        yy=(height_half-im.size[1]*scale) / 2\n",
        "        half_tone = half_tone.crop((xx, yy, xx + im.size[0]*scale, yy + im.size[1]*scale))\n",
        "        dots.append(half_tone)\n",
        "        angle += 15\n",
        "    return dots\n",
        "\n",
        "im = Image.open(\"foo.jpg\")\n",
        "\n",
        "cmyk = gcr(im, 0)\n",
        "dots = halftone(im, cmyk, 10, 4)\n",
        "#im.show()\n",
        "new = Image.merge('CMYK', dots)\n",
        "new.save('foo-cmyk-s4.jpg')"
      ],
      "execution_count": null,
      "outputs": []
    }
  ]
}